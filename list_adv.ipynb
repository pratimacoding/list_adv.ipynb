{
 "cells": [
  {
   "cell_type": "markdown",
   "metadata": {},
   "source": [
    "### what to learn\n",
    "\n",
    "- comprehension\n",
    "- lambda, map and filter"
   ]
  },
  {
   "cell_type": "markdown",
   "metadata": {},
   "source": [
    "If are you doing a program where you need to get  a ***list(sequence) of data from and Existing data by performing some operation on existing data, then you can use the consept of comprehension or map/filter to make your code smaller and faster"
   ]
  },
  {
   "cell_type": "code",
   "execution_count": 21,
   "metadata": {},
   "outputs": [
    {
     "name": "stdout",
     "output_type": "stream",
     "text": [
      "[6, 7, 8, 9, 10, 11, 12]\n"
     ]
    }
   ],
   "source": [
    "x = [1,2,3,4,5,6,7]\n",
    "x5 = [] # list empty\n",
    "for i in x:\n",
    "    o = i + 5\n",
    "    x5.append(o)\n",
    "print(x5)"
   ]
  },
  {
   "cell_type": "markdown",
   "metadata": {},
   "source": [
    "- comprehension syntax\n",
    "- simple\n",
    "```\n",
    "newlist = [operation loop]\n",
    "```\n",
    "- condition based\n",
    "``` \n",
    "newlist = [operation loop condition]\n",
    "```"
   ]
  },
  {
   "cell_type": "code",
   "execution_count": 22,
   "metadata": {},
   "outputs": [
    {
     "name": "stdout",
     "output_type": "stream",
     "text": [
      "[6, 7, 8, 9, 10, 11, 12]\n"
     ]
    }
   ],
   "source": [
    "x5 = [i + 5 for i in x]\n",
    "print(x5)"
   ]
  },
  {
   "cell_type": "code",
   "execution_count": 23,
   "metadata": {},
   "outputs": [
    {
     "name": "stdout",
     "output_type": "stream",
     "text": [
      "[6, 7, 8, 9, 10, 11, 12]\n"
     ]
    }
   ],
   "source": [
    "xsqr = [i ** 2 for i in x]\n",
    "print(x5)"
   ]
  },
  {
   "cell_type": "code",
   "execution_count": 24,
   "metadata": {},
   "outputs": [
    {
     "name": "stdout",
     "output_type": "stream",
     "text": [
      "[4, 16, 36, 64, 100]\n"
     ]
    }
   ],
   "source": [
    "x = [1,2,3,4,5,6,7,8,9,10]\n",
    "xevensqr = [] # epty list\n",
    "for i in x:\n",
    "    if i % 2 == 0:\n",
    "        xevensqr.append(i**2)\n",
    "print(xevensqr)\n"
   ]
  },
  {
   "cell_type": "code",
   "execution_count": 25,
   "metadata": {},
   "outputs": [
    {
     "name": "stdout",
     "output_type": "stream",
     "text": [
      "[8, 64, 216, 512, 1000]\n"
     ]
    }
   ],
   "source": [
    "# pythonic version \n",
    "xevncube = [i**3 for i in x if i%2==0]\n",
    "print(xevncube)"
   ]
  },
  {
   "cell_type": "code",
   "execution_count": 26,
   "metadata": {},
   "outputs": [
    {
     "name": "stdout",
     "output_type": "stream",
     "text": [
      "[-9, -7, -5, -3, -1]\n"
     ]
    }
   ],
   "source": [
    "xevensubt = [i-10 for i in x if i%2!=0]\n",
    "print(xevensubt)\n"
   ]
  },
  {
   "cell_type": "code",
   "execution_count": 27,
   "metadata": {},
   "outputs": [
    {
     "name": "stdout",
     "output_type": "stream",
     "text": [
      "['Mason', 'Grey', 'Lawson', 'Maximum']\n"
     ]
    }
   ],
   "source": [
    "names = ['Alex Mason','Adam Grey','Dana Lawson','Wax Maximum']\n",
    "surnames = []\n",
    "for n in names:\n",
    "    sn = n.split()[-1]# get the last word \n",
    "    surnames.append(sn)\n",
    "print(surnames)\n"
   ]
  },
  {
   "cell_type": "code",
   "execution_count": 28,
   "metadata": {},
   "outputs": [],
   "source": [
    "surnames = [n.split()[-1] for n in names]"
   ]
  },
  {
   "cell_type": "markdown",
   "metadata": {},
   "source": [
    "### TASK\n",
    "\n",
    "Write a comprehension program that will return all the employees with 'a' in their names from an existing list of 25 employee"
   ]
  },
  {
   "cell_type": "code",
   "execution_count": 29,
   "metadata": {},
   "outputs": [
    {
     "name": "stdout",
     "output_type": "stream",
     "text": [
      "['Pooja', 'Geetanjali', 'Prapti', 'Vikita', 'Sanju', 'Nikita', 'Swati', 'Bhavna', 'Ayansh', 'Rajendra', 'Garima', 'Praveen', 'Aakash', 'Anaya', 'Amrita', 'Arpita', 'Aanshi']\n"
     ]
    }
   ],
   "source": [
    "names = ['Anek','Pooja','Geetanjali','Aushi','Prapti','Vikita','Guddu','Ankit','Sanju','Nikita','Swati','Bhavna','Ayansh',\n",
    "'Rajendra','Nidhi','Garima','Adhriti','Praveen','Ajeet','Anil','Aakash','Anaya','Amrita','Arpita','Aanshi',]\n",
    "n = []\n",
    "for i in names:\n",
    "    if 'a' in i:\n",
    "        n.append(i)\n",
    "print(n)"
   ]
  },
  {
   "cell_type": "markdown",
   "metadata": {},
   "source": []
  }
 ],
 "metadata": {
  "interpreter": {
   "hash": "3835b9ad7576081e253dd69f6e27ec7e1067bee4461adb44e2756f508db331d5"
  },
  "kernelspec": {
   "display_name": "Python 3.9.7",
   "language": "python",
   "name": "python3"
  },
  "language_info": {
   "codemirror_mode": {
    "name": "ipython",
    "version": 3
   },
   "file_extension": ".py",
   "mimetype": "text/x-python",
   "name": "python",
   "nbconvert_exporter": "python",
   "pygments_lexer": "ipython3",
   "version": "3.9.7"
  },
  "orig_nbformat": 4
 },
 "nbformat": 4,
 "nbformat_minor": 2
}
